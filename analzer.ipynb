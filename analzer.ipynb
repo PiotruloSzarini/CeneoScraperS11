{
 "cells": [
  {
   "cell_type": "markdown",
   "metadata": {},
   "source": [
    "## Ceneo Analyzer"
   ]
  },
  {
   "cell_type": "markdown",
   "metadata": {},
   "source": [
    "## Załadowanie bibliotek"
   ]
  },
  {
   "cell_type": "code",
   "execution_count": 15,
   "metadata": {},
   "outputs": [],
   "source": [
    "import os\n",
    "import pandas as pd"
   ]
  },
  {
   "cell_type": "markdown",
   "metadata": {},
   "source": [
    "## Lista kodow produktow, o ktorych zostaly pobrane opinie"
   ]
  },
  {
   "cell_type": "code",
   "execution_count": 16,
   "metadata": {},
   "outputs": [
    {
     "name": "stdout",
     "output_type": "stream",
     "text": [
      "39562616\n"
     ]
    }
   ],
   "source": [
    "print(*[filename.split(\".\")[0] for filename in os.listdir(\"opinions\")], sep=\"\\n\")"
   ]
  },
  {
   "cell_type": "markdown",
   "metadata": {},
   "source": [
    "## Wczytanie od uzytkownika kodu produktu "
   ]
  },
  {
   "cell_type": "code",
   "execution_count": 17,
   "metadata": {},
   "outputs": [],
   "source": [
    "product_id = input(\"Podaj kod produktu:\")\n",
    "#39562616"
   ]
  },
  {
   "cell_type": "markdown",
   "metadata": {},
   "source": [
    "## Wczytanie do oboiektu panda.DataFrame opinii o produkcie o podanym kodzie"
   ]
  },
  {
   "cell_type": "code",
   "execution_count": 36,
   "metadata": {},
   "outputs": [],
   "source": [
    "opinions = pd.read_json(f\"opinions/{product_id}.json\", )"
   ]
  },
  {
   "cell_type": "code",
   "execution_count": 37,
   "metadata": {},
   "outputs": [],
   "source": [
    "opinions.star = opinions.star.apply(lambda s: s.split(\"/\")[0].replace(\",\",\".\")).astype(float)"
   ]
  },
  {
   "cell_type": "code",
   "execution_count": 38,
   "metadata": {},
   "outputs": [
    {
     "ename": "TypeError",
     "evalue": "'Series' object is not callable",
     "output_type": "error",
     "traceback": [
      "\u001b[1;31m---------------------------------------------------------------------------\u001b[0m",
      "\u001b[1;31mTypeError\u001b[0m                                 Traceback (most recent call last)",
      "Cell \u001b[1;32mIn[38], line 4\u001b[0m\n\u001b[0;32m      2\u001b[0m pros_count \u001b[38;5;241m=\u001b[39m opinions\u001b[38;5;241m.\u001b[39mpros\u001b[38;5;241m.\u001b[39mapply(\u001b[38;5;28;01mlambda\u001b[39;00m p: \u001b[38;5;28;01mNone\u001b[39;00m \u001b[38;5;28;01mif\u001b[39;00m \u001b[38;5;129;01mnot\u001b[39;00m p \u001b[38;5;28;01melse\u001b[39;00m p)\u001b[38;5;241m.\u001b[39mcount()\n\u001b[0;32m      3\u001b[0m cons_count \u001b[38;5;241m=\u001b[39m opinions\u001b[38;5;241m.\u001b[39mcons\u001b[38;5;241m.\u001b[39mapply(\u001b[38;5;28;01mlambda\u001b[39;00m c: \u001b[38;5;28;01mNone\u001b[39;00m \u001b[38;5;28;01mif\u001b[39;00m \u001b[38;5;129;01mnot\u001b[39;00m c \u001b[38;5;28;01melse\u001b[39;00m c)\u001b[38;5;241m.\u001b[39mcount()\n\u001b[1;32m----> 4\u001b[0m average_stars \u001b[38;5;241m=\u001b[39m \u001b[43mopinions\u001b[49m\u001b[38;5;241;43m.\u001b[39;49m\u001b[43mstar\u001b[49m\u001b[43m(\u001b[49m\u001b[43m)\u001b[49m\n\u001b[0;32m      5\u001b[0m \u001b[38;5;28mprint\u001b[39m(pros_count)\n\u001b[0;32m      6\u001b[0m \u001b[38;5;28mprint\u001b[39m(cons_count)\n",
      "\u001b[1;31mTypeError\u001b[0m: 'Series' object is not callable"
     ]
    }
   ],
   "source": [
    "opinions_count = opinions.shape[0]\n",
    "pros_count = opinions.pros.apply(lambda p: None if not p else p).count()\n",
    "cons_count = opinions.cons.apply(lambda c: None if not c else c).count()\n",
    "average_stars = opinions.star.mean()\n",
    "print(pros_count)\n",
    "print(cons_count)\n",
    "print(average_stars)"
   ]
  },
  {
   "cell_type": "code",
   "execution_count": null,
   "metadata": {},
   "outputs": [
    {
     "data": {
      "text/html": [
       "<div>\n",
       "<style scoped>\n",
       "    .dataframe tbody tr th:only-of-type {\n",
       "        vertical-align: middle;\n",
       "    }\n",
       "\n",
       "    .dataframe tbody tr th {\n",
       "        vertical-align: top;\n",
       "    }\n",
       "\n",
       "    .dataframe thead th {\n",
       "        text-align: right;\n",
       "    }\n",
       "</style>\n",
       "<table border=\"1\" class=\"dataframe\">\n",
       "  <thead>\n",
       "    <tr style=\"text-align: right;\">\n",
       "      <th></th>\n",
       "      <th>opinion_id</th>\n",
       "      <th>author</th>\n",
       "      <th>recommendation</th>\n",
       "      <th>star</th>\n",
       "      <th>content</th>\n",
       "      <th>pros</th>\n",
       "      <th>cons</th>\n",
       "      <th>helpful</th>\n",
       "      <th>unhelpful</th>\n",
       "      <th>publish_date</th>\n",
       "      <th>purchase_date</th>\n",
       "    </tr>\n",
       "  </thead>\n",
       "  <tbody>\n",
       "    <tr>\n",
       "      <th>0</th>\n",
       "      <td>3422858</td>\n",
       "      <td>Użytkownik Ceneo</td>\n",
       "      <td>Polecam</td>\n",
       "      <td>5/5</td>\n",
       "      <td>UWAGA, UWAGA do wszystkich zgłaszających probl...</td>\n",
       "      <td>[]</td>\n",
       "      <td>[]</td>\n",
       "      <td>57</td>\n",
       "      <td>7</td>\n",
       "      <td>2015-11-17 17:55:59</td>\n",
       "      <td>None</td>\n",
       "    </tr>\n",
       "    <tr>\n",
       "      <th>1</th>\n",
       "      <td>3529254</td>\n",
       "      <td>Marcin</td>\n",
       "      <td>Polecam</td>\n",
       "      <td>4,5/5</td>\n",
       "      <td>Ogólnie spoko, chociaż telefon po wyjęciu z pu...</td>\n",
       "      <td>[]</td>\n",
       "      <td>[przycisk home - trzeba mocno naciskać]</td>\n",
       "      <td>3</td>\n",
       "      <td>0</td>\n",
       "      <td>2016-01-13 00:44:40</td>\n",
       "      <td>2015-12-27 14:12:05</td>\n",
       "    </tr>\n",
       "    <tr>\n",
       "      <th>2</th>\n",
       "      <td>6706897</td>\n",
       "      <td>zedi</td>\n",
       "      <td>Polecam</td>\n",
       "      <td>4/5</td>\n",
       "      <td>Wady Słaby dźwięk z głośnika głównego - z tyłu...</td>\n",
       "      <td>[ekran nie do zbicia, wyświetlacza:  design:  ...</td>\n",
       "      <td>[bateria lądująca w godzine 100%, czas pracy n...</td>\n",
       "      <td>0</td>\n",
       "      <td>2</td>\n",
       "      <td>2018-03-14 00:45:39</td>\n",
       "      <td>None</td>\n",
       "    </tr>\n",
       "    <tr>\n",
       "      <th>3</th>\n",
       "      <td>3580458</td>\n",
       "      <td>Janek</td>\n",
       "      <td>Polecam</td>\n",
       "      <td>5/5</td>\n",
       "      <td>Smartphone szybki i stabilny. Super ekran doty...</td>\n",
       "      <td>[wyświetlacza:  design:  żywotność]</td>\n",
       "      <td>[]</td>\n",
       "      <td>37</td>\n",
       "      <td>16</td>\n",
       "      <td>2016-02-12 11:13:47</td>\n",
       "      <td>2016-01-25 12:30:40</td>\n",
       "    </tr>\n",
       "    <tr>\n",
       "      <th>4</th>\n",
       "      <td>3287614</td>\n",
       "      <td>maciej</td>\n",
       "      <td>Polecam</td>\n",
       "      <td>4/5</td>\n",
       "      <td>Generalnie bardzo dobry smartfon, moim zdaniem...</td>\n",
       "      <td>[funkcjonalność]</td>\n",
       "      <td>[]</td>\n",
       "      <td>35</td>\n",
       "      <td>14</td>\n",
       "      <td>2015-08-21 14:25:23</td>\n",
       "      <td>None</td>\n",
       "    </tr>\n",
       "    <tr>\n",
       "      <th>5</th>\n",
       "      <td>3668612</td>\n",
       "      <td>aREk</td>\n",
       "      <td>Polecam</td>\n",
       "      <td>5/5</td>\n",
       "      <td>Po zmianie ze starego Samsunga S-Advance - bez...</td>\n",
       "      <td>[funkcjonalność]</td>\n",
       "      <td>[]</td>\n",
       "      <td>1</td>\n",
       "      <td>1</td>\n",
       "      <td>2016-03-31 21:12:25</td>\n",
       "      <td>2016-03-23 11:23:35</td>\n",
       "    </tr>\n",
       "    <tr>\n",
       "      <th>6</th>\n",
       "      <td>3621067</td>\n",
       "      <td>Mateusz</td>\n",
       "      <td>Polecam</td>\n",
       "      <td>4,5/5</td>\n",
       "      <td>Super telefon nie zacina się, szybko się uruch...</td>\n",
       "      <td>[]</td>\n",
       "      <td>[]</td>\n",
       "      <td>9</td>\n",
       "      <td>8</td>\n",
       "      <td>2016-03-03 21:57:18</td>\n",
       "      <td>None</td>\n",
       "    </tr>\n",
       "    <tr>\n",
       "      <th>7</th>\n",
       "      <td>3341535</td>\n",
       "      <td>Pawel</td>\n",
       "      <td>Polecam</td>\n",
       "      <td>4,5/5</td>\n",
       "      <td>Zamieniłem z Galaxy S Plus,  który jeszcze daw...</td>\n",
       "      <td>[]</td>\n",
       "      <td>[bateria dwa dni trzyma przy dość intensy]</td>\n",
       "      <td>12</td>\n",
       "      <td>5</td>\n",
       "      <td>2015-09-28 09:31:30</td>\n",
       "      <td>2015-09-02 11:00:33</td>\n",
       "    </tr>\n",
       "    <tr>\n",
       "      <th>8</th>\n",
       "      <td>3602206</td>\n",
       "      <td>Użytkownik Ceneo</td>\n",
       "      <td>Polecam</td>\n",
       "      <td>5/5</td>\n",
       "      <td>Kupiłem ten telefon praktycznie nowy 2 tygodni...</td>\n",
       "      <td>[bateria dwa dni trzyma przy dość intensy]</td>\n",
       "      <td>[]</td>\n",
       "      <td>7</td>\n",
       "      <td>2</td>\n",
       "      <td>2016-02-24 16:08:31</td>\n",
       "      <td>None</td>\n",
       "    </tr>\n",
       "    <tr>\n",
       "      <th>9</th>\n",
       "      <td>3836682</td>\n",
       "      <td>Maestro</td>\n",
       "      <td>Polecam</td>\n",
       "      <td>4/5</td>\n",
       "      <td>Poręczny estetyczny wygląd! Brak papierowej in...</td>\n",
       "      <td>[]</td>\n",
       "      <td>[]</td>\n",
       "      <td>0</td>\n",
       "      <td>0</td>\n",
       "      <td>2016-07-21 18:17:58</td>\n",
       "      <td>2016-07-06 14:55:27</td>\n",
       "    </tr>\n",
       "  </tbody>\n",
       "</table>\n",
       "</div>"
      ],
      "text/plain": [
       "   opinion_id            author recommendation   star  \\\n",
       "0     3422858  Użytkownik Ceneo        Polecam    5/5   \n",
       "1     3529254            Marcin        Polecam  4,5/5   \n",
       "2     6706897              zedi        Polecam    4/5   \n",
       "3     3580458             Janek        Polecam    5/5   \n",
       "4     3287614            maciej        Polecam    4/5   \n",
       "5     3668612              aREk        Polecam    5/5   \n",
       "6     3621067           Mateusz        Polecam  4,5/5   \n",
       "7     3341535             Pawel        Polecam  4,5/5   \n",
       "8     3602206  Użytkownik Ceneo        Polecam    5/5   \n",
       "9     3836682           Maestro        Polecam    4/5   \n",
       "\n",
       "                                             content  \\\n",
       "0  UWAGA, UWAGA do wszystkich zgłaszających probl...   \n",
       "1  Ogólnie spoko, chociaż telefon po wyjęciu z pu...   \n",
       "2  Wady Słaby dźwięk z głośnika głównego - z tyłu...   \n",
       "3  Smartphone szybki i stabilny. Super ekran doty...   \n",
       "4  Generalnie bardzo dobry smartfon, moim zdaniem...   \n",
       "5  Po zmianie ze starego Samsunga S-Advance - bez...   \n",
       "6  Super telefon nie zacina się, szybko się uruch...   \n",
       "7  Zamieniłem z Galaxy S Plus,  który jeszcze daw...   \n",
       "8  Kupiłem ten telefon praktycznie nowy 2 tygodni...   \n",
       "9  Poręczny estetyczny wygląd! Brak papierowej in...   \n",
       "\n",
       "                                                pros  \\\n",
       "0                                                 []   \n",
       "1                                                 []   \n",
       "2  [ekran nie do zbicia, wyświetlacza:  design:  ...   \n",
       "3                [wyświetlacza:  design:  żywotność]   \n",
       "4                                   [funkcjonalność]   \n",
       "5                                   [funkcjonalność]   \n",
       "6                                                 []   \n",
       "7                                                 []   \n",
       "8         [bateria dwa dni trzyma przy dość intensy]   \n",
       "9                                                 []   \n",
       "\n",
       "                                                cons  helpful  unhelpful  \\\n",
       "0                                                 []       57          7   \n",
       "1            [przycisk home - trzeba mocno naciskać]        3          0   \n",
       "2  [bateria lądująca w godzine 100%, czas pracy n...        0          2   \n",
       "3                                                 []       37         16   \n",
       "4                                                 []       35         14   \n",
       "5                                                 []        1          1   \n",
       "6                                                 []        9          8   \n",
       "7         [bateria dwa dni trzyma przy dość intensy]       12          5   \n",
       "8                                                 []        7          2   \n",
       "9                                                 []        0          0   \n",
       "\n",
       "          publish_date        purchase_date  \n",
       "0  2015-11-17 17:55:59                 None  \n",
       "1  2016-01-13 00:44:40  2015-12-27 14:12:05  \n",
       "2  2018-03-14 00:45:39                 None  \n",
       "3  2016-02-12 11:13:47  2016-01-25 12:30:40  \n",
       "4  2015-08-21 14:25:23                 None  \n",
       "5  2016-03-31 21:12:25  2016-03-23 11:23:35  \n",
       "6  2016-03-03 21:57:18                 None  \n",
       "7  2015-09-28 09:31:30  2015-09-02 11:00:33  \n",
       "8  2016-02-24 16:08:31                 None  \n",
       "9  2016-07-21 18:17:58  2016-07-06 14:55:27  "
      ]
     },
     "execution_count": 22,
     "metadata": {},
     "output_type": "execute_result"
    }
   ],
   "source": [
    "opinions"
   ]
  }
 ],
 "metadata": {
  "kernelspec": {
   "display_name": ".venv",
   "language": "python",
   "name": "python3"
  },
  "language_info": {
   "codemirror_mode": {
    "name": "ipython",
    "version": 3
   },
   "file_extension": ".py",
   "mimetype": "text/x-python",
   "name": "python",
   "nbconvert_exporter": "python",
   "pygments_lexer": "ipython3",
   "version": "3.11.4"
  }
 },
 "nbformat": 4,
 "nbformat_minor": 2
}
