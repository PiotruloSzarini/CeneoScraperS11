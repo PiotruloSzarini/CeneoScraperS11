{
 "cells": [
  {
   "attachments": {},
   "cell_type": "markdown",
   "metadata": {},
   "source": [
    "# Ceneo Scraper"
   ]
  },
  {
   "attachments": {},
   "cell_type": "markdown",
   "metadata": {},
   "source": [
    "## Załadowanie biblioteki"
   ]
  },
  {
   "cell_type": "code",
   "execution_count": 72,
   "metadata": {},
   "outputs": [],
   "source": [
    "import requests\n",
    "from bs4 import BeautifulSoup\n",
    "import json \n",
    "import os"
   ]
  },
  {
   "attachments": {},
   "cell_type": "markdown",
   "metadata": {},
   "source": [
    "## Funkcja do "
   ]
  },
  {
   "cell_type": "code",
   "execution_count": 73,
   "metadata": {},
   "outputs": [],
   "source": [
    "def extract(ancestor, selector, attribute=None):\n",
    "    if selector:\n",
    "        if return_list:\n",
    "\n",
    "            if attribute:\n",
    "                return [tag[attribute].strip() for tag in ancestor.select(selector)]\n",
    "            return [tag.text.strip() for tag in ancestor.select(selector)]\n",
    "        if attribute:\n",
    "            try:\n",
    "                return  ancestor.select_one(selector)[attribute].strip()\n",
    "            except TypeError:\n",
    "                return None\n",
    "        try:\n",
    "            return ancestor.select_one(selector).text.strip()\n",
    "        except AttributeError:\n",
    "            return None\n",
    "    if attribute:\n",
    "        return ancestor[attribute].strip()\n",
    "    return ancestor.text.strip()"
   ]
  },
  {
   "attachments": {},
   "cell_type": "markdown",
   "metadata": {},
   "source": [
    "## Selektory składowych opini"
   ]
  },
  {
   "cell_type": "code",
   "execution_count": 74,
   "metadata": {},
   "outputs": [],
   "source": [
    "selectors = {\n",
    "            \"opinion_id\": (None, \"data-entry-id\"),\n",
    "            \"author\":(\"span.user-post__author-name\",),\n",
    "            \"recommendation\": (\"span.user-post__author-recomendation\",),\n",
    "            \"star\": (\"span.user-post__score-count\",),\n",
    "            \"content\": (\"div.user-post__text\",),\n",
    "            \"pros\": (\"div.review-feature__title--positives ~ div.review-feature__item\", None, True),\n",
    "            \"cons\": (\"div.review-feature__title--negatives ~ div.review-feature__item\", None, True),\n",
    "            \"helpful\": (\"button.vote-yes > span\",),\n",
    "            \"unhelpful\": (\"button.vote-no > span\",),\n",
    "            \"publish_date\": ('span.user-post__published > time:nth-child(1)',\"datetime\"),\n",
    "            \"purchase_date\": ('span.user-post__published > time:nth-child(2)',\"datetime\"),\n",
    "        \n",
    "}"
   ]
  },
  {
   "attachments": {},
   "cell_type": "markdown",
   "metadata": {},
   "source": [
    "## Wysyłanie Zapytania do serwera"
   ]
  },
  {
   "cell_type": "code",
   "execution_count": 75,
   "metadata": {},
   "outputs": [],
   "source": [
    "# product_id = \"138331381\"\n",
    "product_id = \"39562616\"\n",
    "url = f\"https://www.ceneo.pl/{product_id}#tab=reviews_scroll\"\n"
   ]
  },
  {
   "attachments": {},
   "cell_type": "markdown",
   "metadata": {},
   "source": [
    "## Pobranie wszystkich opinii "
   ]
  },
  {
   "cell_type": "code",
   "execution_count": 76,
   "metadata": {},
   "outputs": [
    {
     "ename": "NameError",
     "evalue": "name 'return_list' is not defined",
     "output_type": "error",
     "traceback": [
      "\u001b[1;31m---------------------------------------------------------------------------\u001b[0m",
      "\u001b[1;31mNameError\u001b[0m                                 Traceback (most recent call last)",
      "Cell \u001b[1;32mIn[76], line 8\u001b[0m\n\u001b[0;32m      5\u001b[0m opinions \u001b[39m=\u001b[39m page_dom\u001b[39m.\u001b[39mselect(\u001b[39m\"\u001b[39m\u001b[39mdiv.js_product-review\u001b[39m\u001b[39m\"\u001b[39m)\n\u001b[0;32m      7\u001b[0m \u001b[39mfor\u001b[39;00m opinion \u001b[39min\u001b[39;00m opinions:\n\u001b[1;32m----> 8\u001b[0m     single_opinion \u001b[39m=\u001b[39m {\n\u001b[0;32m      9\u001b[0m         key: extract(opinion, \u001b[39m*\u001b[39;49mvalue)\n\u001b[0;32m     10\u001b[0m           \u001b[39mfor\u001b[39;49;00m key, value \u001b[39min\u001b[39;49;00m selectors\u001b[39m.\u001b[39;49mitems()\n\u001b[0;32m     11\u001b[0m     }\n\u001b[0;32m     12\u001b[0m     all_opinions\u001b[39m.\u001b[39mappend(single_opinion)\n\u001b[0;32m     13\u001b[0m \u001b[39mtry\u001b[39;00m:\n",
      "Cell \u001b[1;32mIn[76], line 9\u001b[0m, in \u001b[0;36m<dictcomp>\u001b[1;34m(.0)\u001b[0m\n\u001b[0;32m      5\u001b[0m opinions \u001b[39m=\u001b[39m page_dom\u001b[39m.\u001b[39mselect(\u001b[39m\"\u001b[39m\u001b[39mdiv.js_product-review\u001b[39m\u001b[39m\"\u001b[39m)\n\u001b[0;32m      7\u001b[0m \u001b[39mfor\u001b[39;00m opinion \u001b[39min\u001b[39;00m opinions:\n\u001b[0;32m      8\u001b[0m     single_opinion \u001b[39m=\u001b[39m {\n\u001b[1;32m----> 9\u001b[0m         key: extract(opinion, \u001b[39m*\u001b[39;49mvalue)\n\u001b[0;32m     10\u001b[0m           \u001b[39mfor\u001b[39;00m key, value \u001b[39min\u001b[39;00m selectors\u001b[39m.\u001b[39mitems()\n\u001b[0;32m     11\u001b[0m     }\n\u001b[0;32m     12\u001b[0m     all_opinions\u001b[39m.\u001b[39mappend(single_opinion)\n\u001b[0;32m     13\u001b[0m \u001b[39mtry\u001b[39;00m:\n",
      "Cell \u001b[1;32mIn[73], line 3\u001b[0m, in \u001b[0;36mextract\u001b[1;34m(ancestor, selector, attribute)\u001b[0m\n\u001b[0;32m      1\u001b[0m \u001b[39mdef\u001b[39;00m \u001b[39mextract\u001b[39m(ancestor, selector, attribute\u001b[39m=\u001b[39m\u001b[39mNone\u001b[39;00m):\n\u001b[0;32m      2\u001b[0m     \u001b[39mif\u001b[39;00m selector:\n\u001b[1;32m----> 3\u001b[0m         \u001b[39mif\u001b[39;00m return_list:\n\u001b[0;32m      5\u001b[0m             \u001b[39mif\u001b[39;00m attribute:\n\u001b[0;32m      6\u001b[0m                 \u001b[39mreturn\u001b[39;00m [tag[attribute]\u001b[39m.\u001b[39mstrip() \u001b[39mfor\u001b[39;00m tag \u001b[39min\u001b[39;00m ancestor\u001b[39m.\u001b[39mselect(selector)]\n",
      "\u001b[1;31mNameError\u001b[0m: name 'return_list' is not defined"
     ]
    }
   ],
   "source": [
    "all_opinions = []\n",
    "while(url):\n",
    "    response = requests.get(url)\n",
    "    page_dom = BeautifulSoup(response.text, \"html.parser\")\n",
    "    opinions = page_dom.select(\"div.js_product-review\")\n",
    "\n",
    "    for opinion in opinions:\n",
    "        single_opinion = {\n",
    "            key: extract(opinion, *value)\n",
    "              for key, value in selectors.items()\n",
    "        }\n",
    "        all_opinions.append(single_opinion)\n",
    "    try:\n",
    "        url = \"https://www.ceneo.pl\" + page_dom.select_one(\"a.pagination_next\")[\"href\"].strip()\n",
    "    except TypeError: url = None\n",
    "        print(url)"
   ]
  },
  {
   "attachments": {},
   "cell_type": "markdown",
   "metadata": {},
   "source": [
    "## Ekstrakcja składowych pojedyńczej opinii\n",
    "|Składowa|Selektor|Zmienna|\n",
    "|--------|--------|-------|\n",
    "|id opinii|[data-entry-id] |opinion_id|\n",
    "|autor|span.user-post_author-name|author|\n",
    "|rekomendacje|span.user-post__author-recomendation|recommendation|\n",
    "|gwiazdki|span.user-post__score-count|star|\n",
    "|treść|div.user-post__text|content|\n",
    "|lista zalet|div.review-feature_title--positives ~ div.review-feature_item|pros|\n",
    "|lista wad|div.review-feature_title--negatives ~ div.review-feature_item|cons|\n",
    "|dla ilu przydatna|button.vote-yes > span|helpful|\n",
    "|dla ilu nieprzydatna|button.vote-no > span|unhelpful|\n",
    "|data wystawienia|span.user-post_published > time:nth-child(1)[\"datetime\"]|publish_date|\n",
    "|data zakupu|span.user-post_published > time:nth-child(2)[\"datetime\"]|purchase_date|"
   ]
  },
  {
   "attachments": {},
   "cell_type": "markdown",
   "metadata": {},
   "source": [
    "## Zapis opinii o produkcie w JSON\n"
   ]
  },
  {
   "cell_type": "code",
   "execution_count": null,
   "metadata": {},
   "outputs": [],
   "source": [
    "if not os.path.exists(\"opinions\"):\n",
    "    os.makedirs(\"opinions\")\n",
    "with open(f\"opinions/{product_id}.json\",\"w\",encoding=\"utf-8\") as jf:\n",
    "    json.dump(all_opinions, jf,indent = 4, ensure_ascii = False)"
   ]
  }
 ],
 "metadata": {
  "kernelspec": {
   "display_name": ".venv",
   "language": "python",
   "name": "python3"
  },
  "language_info": {
   "codemirror_mode": {
    "name": "ipython",
    "version": 3
   },
   "file_extension": ".py",
   "mimetype": "text/x-python",
   "name": "python",
   "nbconvert_exporter": "python",
   "pygments_lexer": "ipython3",
   "version": "3.11.4"
  },
  "orig_nbformat": 4
 },
 "nbformat": 4,
 "nbformat_minor": 2
}
